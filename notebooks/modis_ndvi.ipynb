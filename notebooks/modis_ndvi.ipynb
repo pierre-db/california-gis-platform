{
 "cells": [
  {
   "cell_type": "markdown",
   "metadata": {},
   "source": [
    "# Setup\n",
    "## Imports"
   ]
  },
  {
   "cell_type": "code",
   "execution_count": 1,
   "metadata": {},
   "outputs": [],
   "source": [
    "import os\n",
    "from os import environ\n",
    "from os.path import join\n",
    "import glob\n",
    "from tqdm import tqdm\n",
    "\n",
    "import geopandas as gpd\n",
    "import pandas as pd\n",
    "import numpy as np\n",
    "\n",
    "import rasterio\n",
    "import xarray as xr\n",
    "import rioxarray\n",
    "\n",
    "from pystac_client import Client\n",
    "import planetary_computer as pc\n",
    "import stackstac\n",
    "from dask.diagnostics import ProgressBar"
   ]
  },
  {
   "cell_type": "markdown",
   "metadata": {},
   "source": [
    "# Functions definition"
   ]
  },
  {
   "cell_type": "code",
   "execution_count": 2,
   "metadata": {},
   "outputs": [],
   "source": [
    "# Functions\n",
    "# Functions\n",
    "def xr_sieve(ds, sieve_thresh: int, connectivity: int = 4):\n",
    "    \"\"\"\n",
    "    Sieving, overloads rasterio function with raster shaped like (1, h, w).\n",
    "    Inspired from https://sertit-utils.readthedocs.io/en/latest/_modules/sertit/rasters.html#sieve\n",
    "\n",
    "    .. WARNING::\n",
    "        Your data is casted by force into :code:`np.uint8`, so be sure that your data is classified.\n",
    "\n",
    "    Args:\n",
    "        ds (xarray): xarray DataSet or DaraArray\n",
    "        sieve_thresh (int): Sieving threshold in pixels\n",
    "        connectivity (int): Connectivity, either 4 or 8\n",
    "\n",
    "    Returns:\n",
    "        (xarray): Sieved xarray\n",
    "    \"\"\"\n",
    "    assert connectivity in [4, 8]\n",
    "\n",
    "    # Use this trick to make the sieve work\n",
    "    mask = xr.where(ds.isnull(), 0, 1).data.squeeze().astype('uint8')\n",
    "    data = ds.data.astype(np.uint8).squeeze()\n",
    "\n",
    "    # Sieve\n",
    "    sieved_arr = rasterio.features.sieve(data, size=sieve_thresh, connectivity=connectivity, mask=mask)\n",
    "\n",
    "    # Set back nodata and expand back dim\n",
    "    sieved_arr = sieved_arr.astype(ds.dtype)\n",
    "    if str(ds.dtype).startswith(('float', 'float16', 'float32', 'float64')):\n",
    "        sieved_arr[np.isnan(np.squeeze(ds.data))] = np.nan\n",
    "\n",
    "    # Check if we have a shape like (1, x, y) or (x, y)\n",
    "    if len(ds.shape) > len(sieved_arr.shape):\n",
    "        sieved_arr = np.expand_dims(sieved_arr, axis=0)\n",
    "\n",
    "    sieved_ds = ds.copy(data=sieved_arr)\n",
    "\n",
    "    return sieved_ds"
   ]
  },
  {
   "cell_type": "markdown",
   "metadata": {},
   "source": [
    "## Parameters"
   ]
  },
  {
   "cell_type": "code",
   "execution_count": 10,
   "metadata": {},
   "outputs": [],
   "source": [
    "# main path\n",
    "data_folder = '../data'\n",
    "\n",
    "# paths\n",
    "aoi_path = join(data_folder, 'admin', 'adm2.geojson')\n",
    "modis_path = join(data_folder, 'modis', 'ndvi')\n",
    "\n",
    "# start / end dates\n",
    "start_date=\"2022-01-01\"\n",
    "end_date=\"2022-12-30\""
   ]
  },
  {
   "cell_type": "markdown",
   "metadata": {},
   "source": [
    "# Main code\n",
    "## Define the AOI"
   ]
  },
  {
   "cell_type": "code",
   "execution_count": 11,
   "metadata": {},
   "outputs": [],
   "source": [
    "aoi_gdf = gpd.read_file(aoi_path)\n",
    "\n",
    "aoi_utm_crs = aoi_gdf.estimate_utm_crs()\n",
    "aoi_epsg_geom = aoi_gdf.to_crs(aoi_utm_crs).unary_union\n",
    "bbox_4326 = aoi_gdf.to_crs(4326).unary_union.bounds # bounding box for search\n",
    "bbox_epsg = aoi_gdf.to_crs(aoi_utm_crs).unary_union.bounds # to limit the downloaded data"
   ]
  },
  {
   "cell_type": "markdown",
   "metadata": {},
   "source": [
    "## Search and download satellite images"
   ]
  },
  {
   "cell_type": "code",
   "execution_count": 12,
   "metadata": {},
   "outputs": [],
   "source": [
    "# open the catalog\n",
    "catalog = Client.open(\"https://planetarycomputer.microsoft.com/api/stac/v1\", modifier=pc.sign_inplace)"
   ]
  },
  {
   "cell_type": "code",
   "execution_count": 13,
   "metadata": {},
   "outputs": [
    {
     "name": "stdout",
     "output_type": "stream",
     "text": [
      "Found 250 items\n"
     ]
    }
   ],
   "source": [
    "query = catalog.search(bbox=bbox_4326,\n",
    "                        collections=\"modis-13Q1-061\",\n",
    "                        datetime=f'{start_date}/{end_date}')\n",
    "item_list = query.item_collection()\n",
    "\n",
    "print(f\"Found {len(item_list)} items\")"
   ]
  },
  {
   "cell_type": "code",
   "execution_count": 14,
   "metadata": {},
   "outputs": [
    {
     "name": "stdout",
     "output_type": "stream",
     "text": [
      "[########################################] | 100% Completed | 63.36 s\n"
     ]
    }
   ],
   "source": [
    "ds = stackstac.stack(\n",
    "    item_list,\n",
    "    assets=[\"250m_16_days_NDVI\"],\n",
    "    bounds=bbox_epsg,\n",
    "    resolution=250,\n",
    "    rescale=False,\n",
    "    xy_coords='center',\n",
    "    epsg=aoi_utm_crs.to_epsg(),\n",
    "    dtype='int64',\n",
    "    fill_value=-32768\n",
    ")\n",
    "with ProgressBar():\n",
    "    ds.load()"
   ]
  },
  {
   "cell_type": "code",
   "execution_count": 15,
   "metadata": {},
   "outputs": [],
   "source": [
    "# fix the time by parsing the id property\n",
    "ds['time'] = (\n",
    "    pd.to_datetime(ds['id'].str[9:13]) \n",
    "    + pd.to_timedelta(ds['id'].str[13:16].astype(int) - 1, unit='D')\n",
    ")\n",
    "# group by timestamp\n",
    "ds = ds.groupby(\"time\").max()\n",
    "ds = ds.rio.write_nodata(-32768).astype('int16')"
   ]
  },
  {
   "cell_type": "code",
   "execution_count": 16,
   "metadata": {},
   "outputs": [],
   "source": [
    "# export all dates as tiffs\n",
    "for i in range(len(ds)):\n",
    "    date = str(ds.isel(time=i)['time'].dt.strftime(\"%Y-%m-%d\").data)\n",
    "    export_name = date+'_NDVI.tif'\n",
    "    ds.isel(time=i).rename(date).rio.clip([aoi_epsg_geom]).rio.to_raster(\n",
    "        join(modis_path, export_name),\n",
    "        compress=\"deflate\",\n",
    "        predictor=2\n",
    "    )"
   ]
  },
  {
   "cell_type": "markdown",
   "metadata": {},
   "source": [
    "## Perform zonal stats"
   ]
  },
  {
   "cell_type": "code",
   "execution_count": 24,
   "metadata": {},
   "outputs": [
    {
     "name": "stderr",
     "output_type": "stream",
     "text": [
      "100%|██████████| 247/247 [03:37<00:00,  1.14it/s]\n"
     ]
    }
   ],
   "source": [
    "from rasterstats import zonal_stats\n",
    "\n",
    "file_list = glob.glob(os.path.join(modis_path, \"*.tif\"))\n",
    "\n",
    "# define a model to reproject all the other rasters\n",
    "df_list = []\n",
    "for file in tqdm(file_list):\n",
    "    date = pd.to_datetime(os.path.basename(file)[:10], yearfirst=True)\n",
    "\n",
    "    # open the raster and extract\n",
    "    with rioxarray.open_rasterio(file) as da:\n",
    "        da = da.squeeze(dim='band').drop_vars('band').expand_dims(time=[date])\n",
    "        da = da.astype('float32').where(da != -32768).rio.set_nodata(np.nan) / 10_000\n",
    "    \n",
    "        # generate the zonal stats\n",
    "        stats_dict = zonal_stats(aoi_gdf.to_crs(da.rio.crs), da.data[0], stats=['mean', 'max', 'min', 'std'], affine=da.rio.transform(), nodata=-3000)\n",
    "        stats_df = pd.DataFrame(stats_dict)\n",
    "        stats_df['month'] = date\n",
    "        df_list.append(stats_df)\n",
    "\n",
    "stats_df = pd.concat(df_list).join(aoi_gdf['district']).reset_index(drop=True)\n",
    "stats_df = stats_df.sort_values(['month', 'district'])"
   ]
  },
  {
   "cell_type": "code",
   "execution_count": 26,
   "metadata": {},
   "outputs": [],
   "source": [
    "# export\n",
    "stats_df.to_csv(join(data_folder, 'indicators', 'ndvi.csv'))"
   ]
  },
  {
   "cell_type": "code",
   "execution_count": 28,
   "metadata": {},
   "outputs": [
    {
     "data": {
      "image/png": "[encoded data removed]",
      "text/plain": [
       "<Figure size 640x480 with 1 Axes>"
      ]
     },
     "metadata": {},
     "output_type": "display_data"
    }
   ],
   "source": [
    "stats_df[stats_df['district']=='Northern Buttes District'].set_index('month')['mean'].plot();"
   ]
  },
  {
   "cell_type": "markdown",
   "metadata": {},
   "source": [
    "## Generate yearly aggregation"
   ]
  },
  {
   "cell_type": "code",
   "execution_count": null,
   "metadata": {},
   "outputs": [],
   "source": [
    "modis_file_list = glob.glob(join(modis_path, '*.tif'))\n",
    "years_list = ['2020', '2021', '2022', '2023', '2024', '2025']\n",
    "\n",
    "df_list = []\n",
    "for year in tqdm(years_list):\n",
    "    export_file_tiff = join(data_folder, 'aggregates', f'ndvi_{year}.tif')\n",
    "\n",
    "    # if os.path.exists(export_file_tiff):\n",
    "    #     continue\n",
    "\n",
    "    file_list = sorted([f for f in modis_file_list if os.path.basename(f).startswith(str(year))])\n",
    "    # if len(file_list) < 12:\n",
    "    #     print('Only found', len(file_list), 'files for', year, '(expected 12), skipping')\n",
    "    #     continue\n",
    "\n",
    "    da_list = []\n",
    "    # generate a rasters time series for the year\n",
    "    for file in file_list:\n",
    "        date = np.datetime64(os.path.basename(file)[:10])\n",
    "               \n",
    "        with rioxarray.open_rasterio(file) as da:\n",
    "            da = da.squeeze(dim='band').drop_vars('band').expand_dims(time=[date])\n",
    "            da = da.astype('float32').where(da != -32768).rio.set_nodata(np.nan) / 10_000\n",
    "            da_list.append(da)\n",
    "   \n",
    "    ds_concat = xr.concat(da_list, dim='time').to_dataset(name='NDVI')\n",
    "    ds_concat = ds_concat.rio.set_crs(aoi_utm_crs)\n",
    "    \n",
    "    # generate cumulated tiff for the year\n",
    "    ds_concat['NDVI'].mean(dim='time').rio.set_nodata(np.nan).rio.to_raster(export_file_tiff, compress='deflate', predictor=2)"
   ]
  },
  {
   "cell_type": "markdown",
   "metadata": {},
   "source": [
    "## Calculate crops extent\n",
    "### Generate cropmask"
   ]
  },
  {
   "cell_type": "code",
   "execution_count": 19,
   "metadata": {},
   "outputs": [
    {
     "name": "stderr",
     "output_type": "stream",
     "text": [
      "100%|██████████| 6/6 [00:22<00:00,  3.76s/it]\n"
     ]
    }
   ],
   "source": [
    "modis_file_list = glob.glob(join(modis_path, '*.tif'))\n",
    "years_list = ['2020', '2021', '2022', '2023', '2024', '2025']\n",
    "\n",
    "df_list = []\n",
    "for year in tqdm(years_list):\n",
    "    export_file_tiff = join(data_folder, 'aggregates', f'cropmask_{year}.tif')\n",
    "\n",
    "    # if os.path.exists(export_file_tiff):\n",
    "    #     continue\n",
    "    \n",
    "    file_list = []\n",
    "    for modis_file in modis_file_list:\n",
    "        file_date = np.datetime64(os.path.basename(modis_file)[:10])\n",
    "        # add all files withing the crop season\n",
    "        if (file_date >= np.datetime64(f'{int(year)}-04-13') and file_date < np.datetime64(f'{int(year)}-08-21')):\n",
    "            file_list.append(modis_file)\n",
    "        file_list = sorted(file_list)\n",
    "\n",
    "    da_list = []\n",
    "    # generate a rasters time series for the year\n",
    "    for file in file_list:\n",
    "        date = np.datetime64(os.path.basename(file)[:10]).astype('datetime64[ns]')\n",
    "               \n",
    "        with rioxarray.open_rasterio(file) as da:\n",
    "            da = da.squeeze(dim='band').drop_vars('band').expand_dims(time=[date])\n",
    "            da = da.astype('float32').where(da != -32768).rio.set_nodata(np.nan) / 10_000\n",
    "            da_list.append(da)\n",
    "   \n",
    "    ds_concat = xr.concat(da_list, dim='time').to_dataset(name='NDVI')\n",
    "    ds_concat = ds_concat.rio.set_crs(aoi_utm_crs)\n",
    "\n",
    "    # pixels above threshold during growing season\n",
    "    binary_ds = (((ds_concat['NDVI'] >= 0.5 ).sum(dim='time') >= 4)).astype('uint8')\n",
    "\n",
    "    # apply a sieve\n",
    "    binary_ds = xr_sieve(binary_ds, 3)\n",
    "    \n",
    "    # generate cumulated tiff for the year\n",
    "    binary_ds.rio.to_raster(export_file_tiff, compress='deflate', predictor=2)"
   ]
  },
  {
   "cell_type": "markdown",
   "metadata": {},
   "source": [
    "### Calculate stats on cropmask"
   ]
  },
  {
   "cell_type": "code",
   "execution_count": 21,
   "metadata": {},
   "outputs": [
    {
     "name": "stderr",
     "output_type": "stream",
     "text": [
      "100%|██████████| 6/6 [00:03<00:00,  1.64it/s]\n"
     ]
    }
   ],
   "source": [
    "from rasterstats import zonal_stats\n",
    "\n",
    "file_list = sorted(glob.glob(os.path.join(data_folder, 'aggregates', \"cropmask_*.tif\")))\n",
    "\n",
    "# define a model to reproject all the other rasters\n",
    "df_list = []\n",
    "for file in tqdm(file_list):\n",
    "    date = pd.to_datetime(os.path.basename(file)[9:13]+'-01-01', yearfirst=True)\n",
    "\n",
    "    # open the raster and extract\n",
    "    with rioxarray.open_rasterio(file) as da:\n",
    "        da = da.squeeze(dim='band').drop_vars('band').expand_dims(time=[date])\n",
    "        da = da.astype('float32').where(da != 0).rio.set_nodata(np.nan)\n",
    "        res = max(da.rio.resolution()) # calculate spatial resolution\n",
    "        da = da*res**2/10_000 # convert to ha\n",
    "    \n",
    "        # generate the zonal stats\n",
    "        stats_dict = zonal_stats(aoi_gdf.to_crs(da.rio.crs), da.data[0], stats=['sum'], affine=da.rio.transform(), nodata=np.nan)\n",
    "        stats_df = pd.DataFrame(stats_dict)\n",
    "        stats_df['month'] = date\n",
    "        df_list.append(stats_df)\n",
    "\n",
    "stats_df = pd.concat(df_list).join(aoi_gdf['district']).reset_index(drop=True)\n",
    "stats_df = stats_df.sort_values(['month', 'district'])"
   ]
  },
  {
   "cell_type": "code",
   "execution_count": 22,
   "metadata": {},
   "outputs": [],
   "source": [
    "# export\n",
    "stats_df.to_csv(join(data_folder, 'indicators', 'cropmask.csv'))"
   ]
  },
  {
   "cell_type": "code",
   "execution_count": null,
   "metadata": {},
   "outputs": [],
   "source": []
  }
 ],
 "metadata": {
  "kernelspec": {
   "display_name": "masae-rs",
   "language": "python",
   "name": "python3"
  },
  "language_info": {
   "codemirror_mode": {
    "name": "ipython",
    "version": 3
   },
   "file_extension": ".py",
   "mimetype": "text/x-python",
   "name": "python",
   "nbconvert_exporter": "python",
   "pygments_lexer": "ipython3",
   "version": "3.9.16"
  }
 },
 "nbformat": 4,
 "nbformat_minor": 2
}
