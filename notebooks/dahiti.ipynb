{
 "cells": [
  {
   "cell_type": "markdown",
   "metadata": {},
   "source": [
    "# Setup\n",
    "## Imports"
   ]
  },
  {
   "cell_type": "code",
   "execution_count": 22,
   "metadata": {
    "ExecuteTime": {
     "end_time": "2022-08-02T10:18:23.260309Z",
     "start_time": "2022-08-02T10:18:22.737127Z"
    }
   },
   "outputs": [],
   "source": [
    "# general packages\n",
    "import os\n",
    "from os import environ\n",
    "from os.path import join\n",
    "\n",
    "import re\n",
    "import glob\n",
    "import json\n",
    "from io import StringIO\n",
    "\n",
    "import matplotlib.pyplot as plt\n",
    "\n",
    "import requests\n",
    "\n",
    "import pandas as pd\n",
    "import geopandas as gpd\n",
    "from shapely.geometry import Point"
   ]
  },
  {
   "cell_type": "markdown",
   "metadata": {},
   "source": [
    "## Functions definition"
   ]
  },
  {
   "cell_type": "code",
   "execution_count": 3,
   "metadata": {
    "ExecuteTime": {
     "end_time": "2022-08-04T06:57:51.412465Z",
     "start_time": "2022-08-04T06:57:51.390091Z"
    }
   },
   "outputs": [],
   "source": [
    "# Functions\n",
    "def download_dahiti_data(dahiti_id, file_format, api_key):\n",
    "    \"\"\"Download data for a given dahiti_id lake\n",
    "\n",
    "    Args:\n",
    "        dahiti_id (int): The DAHITI ID of the desired lake\n",
    "        file_format (str): can be either 'json', 'ascii', 'netcdf' or 'csv'\n",
    "        api_key (str): The API key to connect to the DAHITI API\n",
    "\n",
    "    Returns:\n",
    "        str|dict(str)|bytes: The data to write to a file\n",
    "    \"\"\"\n",
    "    url = \"https://dahiti.dgfi.tum.de/api/v2/download-water-level/\"\n",
    "\n",
    "    args = {}\n",
    "    args['api_key'] = api_key\n",
    "    args['dahiti_id'] = dahiti_id\n",
    "    args['format'] = file_format\n",
    "\n",
    "    response = requests.get(url,params=args)\n",
    "\n",
    "    if response.status_code == 200:\n",
    "        if args['format'] == \"ascii\":\n",
    "            data = response.text\n",
    "        if args['format'] == \"json\":\n",
    "            data = json.loads(response.text)\n",
    "        if args['format'] == \"netcdf\":\n",
    "            data = response.content\n",
    "        if args['format'] == \"csv\":\n",
    "            data = response.text\n",
    "    else:\n",
    "        print (response.text)\n",
    "        print (response.status_code)\n",
    "        \n",
    "    return data\n",
    "\n",
    "def extract_coordinates(text):\n",
    "    \"\"\"Extract longitude and latitude from text with format like '-106.45 °W, 36.25 °N'\"\"\"\n",
    "    pattern = r'(-?\\d+\\.?\\d*)\\s*°W,\\s*(-?\\d+\\.?\\d*)\\s*°N'\n",
    "    match = re.search(pattern, text)\n",
    "    \n",
    "    if match:\n",
    "        lon_val = float(match.group(1))\n",
    "        lat_val = float(match.group(2))\n",
    "        \n",
    "        # Convert to CRS 4326 (WGS84) decimal degrees\n",
    "        longitude = -abs(lon_val)  # West is negative\n",
    "        latitude = lat_val         # North is positive\n",
    "        \n",
    "        return longitude, latitude\n",
    "    return None, None"
   ]
  },
  {
   "cell_type": "markdown",
   "metadata": {},
   "source": [
    "## Parameters"
   ]
  },
  {
   "cell_type": "code",
   "execution_count": 17,
   "metadata": {
    "ExecuteTime": {
     "end_time": "2022-08-04T06:59:05.321820Z",
     "start_time": "2022-08-04T06:59:05.316000Z"
    }
   },
   "outputs": [],
   "source": [
    "# main path\n",
    "data_folder = '../data'\n",
    "\n",
    "# Paths\n",
    "dahiti_path = join(data_folder, 'dahiti')\n",
    "aoi_path = join(data_folder, 'admin', 'adm2.geojson')"
   ]
  },
  {
   "cell_type": "markdown",
   "metadata": {},
   "source": [
    "# Main code"
   ]
  },
  {
   "cell_type": "markdown",
   "metadata": {},
   "source": [
    "## Download available files\n",
    "Inspired from a script from https://dahiti.dgfi.tum.de/en/api/doc/v2/download-water-level/\n",
    "\n",
    "List of data available in Iraq: https://dahiti.dgfi.tum.de/en/virtual-stations/asia/"
   ]
  },
  {
   "cell_type": "code",
   "execution_count": 5,
   "metadata": {},
   "outputs": [
    {
     "data": {
      "text/html": [
       "<div>\n",
       "<style scoped>\n",
       "    .dataframe tbody tr th:only-of-type {\n",
       "        vertical-align: middle;\n",
       "    }\n",
       "\n",
       "    .dataframe tbody tr th {\n",
       "        vertical-align: top;\n",
       "    }\n",
       "\n",
       "    .dataframe thead th {\n",
       "        text-align: right;\n",
       "    }\n",
       "</style>\n",
       "<table border=\"1\" class=\"dataframe\">\n",
       "  <thead>\n",
       "    <tr style=\"text-align: right;\">\n",
       "      <th></th>\n",
       "      <th>ID</th>\n",
       "      <th>Target Name</th>\n",
       "      <th>Available Dataset(s)</th>\n",
       "    </tr>\n",
       "  </thead>\n",
       "  <tbody>\n",
       "    <tr>\n",
       "      <th>0</th>\n",
       "      <td>39392</td>\n",
       "      <td>Abiquiu, Reservoir  -106.45 °W, 36.25 °N</td>\n",
       "      <td>Water Level  Surface Area Water Occurrence Mas...</td>\n",
       "    </tr>\n",
       "    <tr>\n",
       "      <th>1</th>\n",
       "      <td>17850</td>\n",
       "      <td>Alabama, River  -87.74 °W, 31.33 °N</td>\n",
       "      <td>Water Level  Discharge</td>\n",
       "    </tr>\n",
       "    <tr>\n",
       "      <th>2</th>\n",
       "      <td>20164</td>\n",
       "      <td>Alabama, River  -87.44 °W, 31.92 °N</td>\n",
       "      <td>Water Level  Discharge</td>\n",
       "    </tr>\n",
       "    <tr>\n",
       "      <th>3</th>\n",
       "      <td>20165</td>\n",
       "      <td>Alabama, River  -86.49 °W, 32.36 °N</td>\n",
       "      <td>Water Level  Discharge</td>\n",
       "    </tr>\n",
       "    <tr>\n",
       "      <th>4</th>\n",
       "      <td>13147</td>\n",
       "      <td>Alan Henry, Lake  -101.09 °W, 33.05 °N</td>\n",
       "      <td>Water Level  Surface Area  Water Occurrence Ma...</td>\n",
       "    </tr>\n",
       "  </tbody>\n",
       "</table>\n",
       "</div>"
      ],
      "text/plain": [
       "      ID                               Target Name  \\\n",
       "0  39392  Abiquiu, Reservoir  -106.45 °W, 36.25 °N   \n",
       "1  17850       Alabama, River  -87.74 °W, 31.33 °N   \n",
       "2  20164       Alabama, River  -87.44 °W, 31.92 °N   \n",
       "3  20165       Alabama, River  -86.49 °W, 32.36 °N   \n",
       "4  13147    Alan Henry, Lake  -101.09 °W, 33.05 °N   \n",
       "\n",
       "                                Available Dataset(s)  \n",
       "0  Water Level  Surface Area Water Occurrence Mas...  \n",
       "1                             Water Level  Discharge  \n",
       "2                             Water Level  Discharge  \n",
       "3                             Water Level  Discharge  \n",
       "4  Water Level  Surface Area  Water Occurrence Ma...  "
      ]
     },
     "execution_count": 5,
     "metadata": {},
     "output_type": "execute_result"
    }
   ],
   "source": [
    "aoi_gdf = gpd.read_file(aoi_path)\n",
    "datasets_df = pd.read_html(\"https://dahiti.dgfi.tum.de/en/virtual-stations/north_america/united_states_of_america/\")[0]\n",
    "\n",
    "datasets_df.head()"
   ]
  },
  {
   "cell_type": "code",
   "execution_count": null,
   "metadata": {},
   "outputs": [],
   "source": [
    "# Extract coordinates into a temporary series\n",
    "coords = datasets_df['Target Name'].apply(extract_coordinates)\n",
    "\n",
    "# Split into separate columns\n",
    "datasets_df['Longitude'] = coords.apply(lambda x: x[0] if x[0] is not None else None)\n",
    "datasets_df['Latitude'] = coords.apply(lambda x: x[1] if x[1] is not None else None)\n",
    "\n",
    "# Convert to gdf\n",
    "datasets_gdf = gpd.GeoDataFrame(\n",
    "    datasets_df, \n",
    "    geometry=gpd.points_from_xy(datasets_df['Longitude'], datasets_df['Latitude']),\n",
    "    crs='EPSG:4326'\n",
    ")\n",
    "\n",
    "# Clip to California\n",
    "datasets_gdf = datasets_gdf.clip(aoi_gdf)"
   ]
  },
  {
   "cell_type": "code",
   "execution_count": null,
   "metadata": {},
   "outputs": [],
   "source": [
    "for i, dahiti_lake in datasets_gdf.iterrows():\n",
    "    data = download_dahiti_data(dahiti_lake['ID'], 'json', os.environ['DAHITI_API_KEY'])\n",
    "\n",
    "    # parse the data\n",
    "    df = pd.json_normalize(data['data']).rename(columns={'wse': 'water_level', 'wse_u': 'error'})\n",
    "    df['datetime'] = pd.to_datetime(df['datetime'])\n",
    "    gdf = gpd.GeoDataFrame(data=df, geometry=[Point([data['longitude']], [data['latitude']]) for _ in range(len(df))], crs='EPSG:4326')\n",
    "    \n",
    "    # format the name\n",
    "    name = re.sub('\\(.*\\)', '', data['target_name'].lower())\n",
    "    name = re.sub(' *, *', ' ', name)\n",
    "    export_name = '_'.join(name.split())+'_'+str(data['dahiti_id'])\n",
    "\n",
    "    # export the ts\n",
    "    gdf.to_file(join(dahiti_path, export_name+'_dahiti.geojson'))\n",
    "\n",
    "    # generate and export yearly gdf\n",
    "    yearly_df = gdf[['datetime', 'water_level', 'error']].resample('1MS', on='datetime').mean().interpolate('time').resample('1YS').mean().reset_index()\n",
    "    yearly_gdf = gpd.GeoDataFrame(data=yearly_df, geometry=[Point([data['longitude']], [data['latitude']]) for _ in range(len(yearly_df))], crs='EPSG:4326')\n",
    "    yearly_gdf.to_file(join(data_folder, 'DAHITI', export_name+'_yearly_avg.geojson'))\n"
   ]
  },
  {
   "cell_type": "markdown",
   "metadata": {},
   "source": [
    "## Plot the data"
   ]
  },
  {
   "cell_type": "code",
   "execution_count": 25,
   "metadata": {},
   "outputs": [
    {
     "data": {
      "image/png": "[encoded data removed]",
      "text/plain": [
       "<Figure size 1200x600 with 1 Axes>"
      ]
     },
     "metadata": {},
     "output_type": "display_data"
    }
   ],
   "source": [
    "dahiti_lake_list = glob.glob(join(dahiti_path, '*.geojson'))\n",
    "\n",
    "fig, ax = plt.subplots(1, figsize=(12,6))\n",
    "\n",
    "for dahiti_lake in dahiti_lake_list[:10]:\n",
    "    dahiti_df = gpd.read_file(dahiti_lake).drop(columns='geometry')\n",
    "    dahiti_df['datetime'] = pd.to_datetime(dahiti_df['datetime'])\n",
    "    dahiti_df = dahiti_df.set_index('datetime')\n",
    "    lake_name = os.path.basename(dahiti_lake)[:-15]\n",
    "\n",
    "    ax.plot(dahiti_df['water_level'], alpha=0.7, label=lake_name)\n",
    "\n",
    "    ax.fill_between(dahiti_df['water_level'], dahiti_df['water_level']-dahiti_df['error'], dahiti_df['water_level']+dahiti_df['error'],\n",
    "                    alpha=0.3)\n",
    "\n",
    "ax.set_xlim(pd.to_datetime('2020-01-01'))\n",
    "plt.legend();"
   ]
  },
  {
   "cell_type": "markdown",
   "metadata": {},
   "source": [
    "## Generate a consolidated GeoJSON export for the platform"
   ]
  },
  {
   "cell_type": "code",
   "execution_count": 26,
   "metadata": {},
   "outputs": [],
   "source": [
    "yearly_file_list = glob.glob(join(data_folder, 'dahiti', '*_yearly_avg.geojson'))\n",
    "\n",
    "gdf_list = []\n",
    "for file in yearly_file_list:\n",
    "    gdf_list.append(gpd.read_file(file, parse_dates=['datetime']))\n",
    "\n",
    "yearly_gdf = pd.concat(gdf_list)\n",
    "yearly_gdf = yearly_gdf.loc[(yearly_gdf['datetime'] >= '2020-01-01'), ['datetime', 'water_level', 'geometry']]\n",
    "yearly_gdf['datetime'] = yearly_gdf['datetime'].dt.year.astype(int)\n",
    "yearly_gdf = yearly_gdf.rename(columns={'datetime': 'year', 'water_level': 'value'})\n",
    "\n",
    "# limit precision to limit the filesize\n",
    "yearly_gdf.geometry = yearly_gdf.simplify(0.01, preserve_topology=True)\n",
    "yearly_gdf['value'] = yearly_gdf['value'].round(5)"
   ]
  },
  {
   "cell_type": "code",
   "execution_count": 27,
   "metadata": {},
   "outputs": [],
   "source": [
    "# export\n",
    "yearly_gdf.to_file(join(data_folder, 'DAHITI', 'waterlevels.json'), driver='GeoJSON')"
   ]
  },
  {
   "cell_type": "markdown",
   "metadata": {},
   "source": [
    "## Generate Monthly averages per district for the platform\n",
    "Not the best indicator, but it helps keeping it consistant with the other indicators"
   ]
  },
  {
   "cell_type": "code",
   "execution_count": 28,
   "metadata": {},
   "outputs": [],
   "source": [
    "# load the AOI\n",
    "aoi_gdf = gpd.read_file(aoi_path)"
   ]
  },
  {
   "cell_type": "code",
   "execution_count": 29,
   "metadata": {},
   "outputs": [],
   "source": [
    "dahiti_file_list = glob.glob(join(dahiti_path, '*_dahiti.geojson'))\n",
    "\n",
    "df_list = []\n",
    "for file in dahiti_file_list:\n",
    "    # export the ts\n",
    "    gdf = gpd.read_file(file)\n",
    "\n",
    "    # generate and export yearly gdf\n",
    "    df = gdf[['datetime', 'water_level', 'error']].resample('1MS', on='datetime').mean().interpolate('time').reset_index()\n",
    "    df = df.loc[df['datetime'] >= '2020-01-01', :]\n",
    "    df = df.rename(columns={'datetime': 'month'})\n",
    "\n",
    "    df[['district']] = gdf.iloc[[0]].sjoin(aoi_gdf[['district', 'geometry']]).loc[:, ['district']].values[0]\n",
    "    \n",
    "    df_list.append(df)\n",
    "\n",
    "monthly_concat_df = pd.concat(df_list).reset_index(drop=True).rename(columns={'water_level':'mean'}).drop(columns='error')\n",
    "monthly_concat_df['month'] = pd.to_datetime(monthly_concat_df['month'])\n",
    "monthly_concat_df = monthly_concat_df.set_index('month').groupby([pd.Grouper(freq='1MS'), 'district']).mean().reset_index()"
   ]
  },
  {
   "cell_type": "code",
   "execution_count": 30,
   "metadata": {},
   "outputs": [],
   "source": [
    "# export\n",
    "monthly_concat_df.to_csv(join(data_folder, 'indicators', 'waterlevels.csv'))"
   ]
  },
  {
   "cell_type": "markdown",
   "metadata": {},
   "source": [
    "<HR>"
   ]
  },
  {
   "cell_type": "markdown",
   "metadata": {},
   "source": [
    "# TESTS"
   ]
  },
  {
   "cell_type": "code",
   "execution_count": null,
   "metadata": {},
   "outputs": [],
   "source": []
  }
 ],
 "metadata": {
  "kernelspec": {
   "display_name": "GIZ_IQ_SCCSCM",
   "language": "python",
   "name": "python3"
  },
  "language_info": {
   "codemirror_mode": {
    "name": "ipython",
    "version": 3
   },
   "file_extension": ".py",
   "mimetype": "text/x-python",
   "name": "python",
   "nbconvert_exporter": "python",
   "pygments_lexer": "ipython3",
   "version": "3.9.12"
  },
  "toc": {
   "base_numbering": 1,
   "nav_menu": {},
   "number_sections": true,
   "sideBar": true,
   "skip_h1_title": false,
   "title_cell": "Table of Contents",
   "title_sidebar": "Contents",
   "toc_cell": false,
   "toc_position": {
    "height": "calc(100% - 180px)",
    "left": "10px",
    "top": "150px",
    "width": "318px"
   },
   "toc_section_display": true,
   "toc_window_display": false
  },
  "varInspector": {
   "cols": {
    "lenName": 16,
    "lenType": 16,
    "lenVar": 40
   },
   "kernels_config": {
    "python": {
     "delete_cmd_postfix": "",
     "delete_cmd_prefix": "del ",
     "library": "var_list.py",
     "varRefreshCmd": "print(var_dic_list())"
    },
    "r": {
     "delete_cmd_postfix": ") ",
     "delete_cmd_prefix": "rm(",
     "library": "var_list.r",
     "varRefreshCmd": "cat(var_dic_list()) "
    }
   },
   "types_to_exclude": [
    "module",
    "function",
    "builtin_function_or_method",
    "instance",
    "_Feature"
   ],
   "window_display": false
  }
 },
 "nbformat": 4,
 "nbformat_minor": 4
}
