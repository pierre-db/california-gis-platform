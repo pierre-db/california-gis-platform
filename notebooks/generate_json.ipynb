{
 "cells": [
  {
   "cell_type": "markdown",
   "metadata": {},
   "source": [
    "# Setup\n",
    "## Imports"
   ]
  },
  {
   "cell_type": "code",
   "execution_count": 1,
   "metadata": {},
   "outputs": [],
   "source": [
    "import os\n",
    "from os import environ\n",
    "from os.path import join\n",
    "import json\n",
    "\n",
    "# # geoprocessing imports\n",
    "import geopandas as gpd\n",
    "import pandas as pd\n",
    "import numpy as np"
   ]
  },
  {
   "cell_type": "markdown",
   "metadata": {},
   "source": [
    "# Functions definition"
   ]
  },
  {
   "cell_type": "code",
   "execution_count": 2,
   "metadata": {},
   "outputs": [],
   "source": [
    "# Functions\n",
    "def import_csv(csv_path, *columns_names, freq='1MS', aggfunc='mean'):\n",
    "    \"\"\"Import a CSV with the correct format and export a monthly time series per district\n",
    "\n",
    "    Args:\n",
    "        csv_path (str): The path to the CSV file\n",
    "        columns_names (str): Name of the column with the time-series variable\n",
    "        freq (str, Optional): The frequency of aggregation\n",
    "        aggfunc (str, Optional): The aggregation function for the monthly resampling. Defaults to 'mean'.\n",
    "        \n",
    "    Returns:\n",
    "        pd.DataFrame: The formatted DataFrame\n",
    "    \"\"\"\n",
    "    df = pd.read_csv(csv_path, index_col=0, parse_dates=['month'])\n",
    "    df = df[[*columns_names, 'month', 'district']].set_index('month')\n",
    "    return df.groupby([pd.Grouper(freq=freq), 'district']).agg(aggfunc)"
   ]
  },
  {
   "cell_type": "markdown",
   "metadata": {},
   "source": [
    "## Parameters"
   ]
  },
  {
   "cell_type": "code",
   "execution_count": 3,
   "metadata": {},
   "outputs": [],
   "source": [
    "# main path\n",
    "data_folder = '../data'\n",
    "\n",
    "# paths\n",
    "aoi_path = join(data_folder, 'admin', 'adm2.geojson')\n",
    "indicators_path = join(data_folder, 'indicators')"
   ]
  },
  {
   "cell_type": "markdown",
   "metadata": {},
   "source": [
    "# Main code"
   ]
  },
  {
   "cell_type": "markdown",
   "metadata": {},
   "source": [
    "## Load all the indicators values"
   ]
  },
  {
   "cell_type": "code",
   "execution_count": 4,
   "metadata": {},
   "outputs": [],
   "source": [
    "source_colname_dict = {\n",
    "    'population': 'sum',\n",
    "    'ndvi': 'mean',\n",
    "    'cropmask': 'sum',\n",
    "    'precipitations': 'mean',\n",
    "    'temperature': 'mean',\n",
    "    'waterlevels': 'mean',\n",
    "    'waterextent': 'sum',\n",
    "}\n",
    "\n",
    "# define start and end dates\n",
    "start_date = np.datetime64('2020-01-01')\n",
    "end_date = np.datetime64('2025-12-31')\n",
    "\n",
    "# load the AOI\n",
    "aoi_gdf = gpd.read_file(aoi_path)\n",
    "\n",
    "# then load other df and join them to concat_df\n",
    "df_list = []\n",
    "for source, colname in source_colname_dict.items():\n",
    "    freq= '1YS' if source in ('cropmask', 'waterextent') else '1MS'\n",
    "    df = import_csv(os.path.join(data_folder, 'indicators', f\"{source}.csv\"), colname, freq=freq) # load the df\n",
    "    df = df[(df.index.get_level_values(0) >= start_date)&(df.index.get_level_values(0) <= end_date)] # filter on dates\n",
    "    df = df.rename(columns={colname: source}) # rename the column with monthly value\n",
    "\n",
    "    # concat_df = concat_df.join(df, how='outer') # join to concat_df\n",
    "    df_list.append(df)\n",
    "\n",
    "# concatenate everything\n",
    "concat_df = pd.concat(df_list, axis=1)\n",
    "concat_df = concat_df.fillna({'events_count': 0})\n",
    "\n",
    "# generate 'month', 'month_dt' column\n",
    "concat_df = concat_df.reset_index().rename(columns={'month': 'month_dt'})\n",
    "concat_df['month'] = concat_df['month_dt'].dt.strftime(\"%m\").astype(int)\n",
    "\n",
    "# sort values\n",
    "concat_df = concat_df.sort_values(['month_dt', 'district']).reset_index(drop=True)"
   ]
  },
  {
   "cell_type": "code",
   "execution_count": 5,
   "metadata": {},
   "outputs": [],
   "source": [
    "# generate a monthly average per district for each indicator on previous years\n",
    "monthly_avg_df = (\n",
    "    concat_df\n",
    "        .reset_index(drop=True)\n",
    "        .loc[concat_df['month_dt'].dt.year < 2024, :]\n",
    "        .drop(columns=['month_dt'])\n",
    "        .groupby(['month', 'district']).agg(['mean', 'std'])\n",
    "        .reset_index()\n",
    ")\n",
    "\n",
    "# generate yearly population and displaced df\n",
    "yearly_population_df = (\n",
    "    concat_df\n",
    "        .loc[:, ['month_dt', 'district', 'population']]\n",
    "        .set_index('month_dt')\n",
    "        .groupby(['district', pd.Grouper(freq='1YS')]).min()\n",
    "        .fillna({'population': 0})\n",
    "        .reset_index()\n",
    ")\n",
    "\n",
    "# Convert Shape__Area (in square meters) to square miles and calculate population density\n",
    "# 1 square mile = 2,589,988.11 square meters\n",
    "SQ_METERS_PER_SQ_MILE = 2589988.11\n",
    "\n",
    "yearly_population_df['population_density'] = (\n",
    "    yearly_population_df\n",
    "        .merge(aoi_gdf[['district', 'Shape__Area']], on='district')\n",
    "        .apply(lambda x: x['population'] / (x['Shape__Area'] / SQ_METERS_PER_SQ_MILE), axis=1)\n",
    ")"
   ]
  },
  {
   "cell_type": "markdown",
   "metadata": {},
   "source": [
    "## Calculate indicators"
   ]
  },
  {
   "cell_type": "code",
   "execution_count": 7,
   "metadata": {},
   "outputs": [],
   "source": [
    "layer_list = ['waterlevels', 'precipitations', 'temperature', 'ndvi', 'waterextent']\n",
    "curr_year = concat_df['month_dt'].dt.year.unique()[-1]\n",
    "\n",
    "ts_year_df = (\n",
    "    concat_df\n",
    "        .assign(year=lambda x: x['month_dt'].dt.year)\n",
    "        .loc[:, layer_list + ['year', 'month', 'district']]\n",
    "        .set_index(['year', 'month', 'district'])\n",
    ")\n",
    "\n",
    "# ts_avg_df = concat_df.loc[concat_df['month_dt'].dt.year < curr_year, layer_list + ['month', 'district']]\\\n",
    "#                     .groupby(['month', 'district']).agg('mean') # avg per district\n",
    "\n",
    "ts_avg_df = (\n",
    "    concat_df\n",
    "        .loc[concat_df['month_dt'].dt.year < curr_year, layer_list + ['month']]\n",
    "        .groupby(['month']).agg('mean') # avg independante of the district\n",
    ")\n",
    "\n",
    "ind_df = (\n",
    "    ((ts_year_df-ts_avg_df)/ts_avg_df)\n",
    "        .reset_index()\n",
    "        .groupby(['year', 'district']).mean()\n",
    "        .assign(\n",
    "            water=lambda x: (x['waterlevels']+x['waterextent']/100),\n",
    "            climate=lambda x: (x['precipitations']-x['temperature'])/2,\n",
    "            agriculture=lambda x: x['ndvi']\n",
    "        ).fillna({'water': 0})\n",
    "        .drop(columns=layer_list+['month'])\n",
    "        .reset_index()\n",
    ")\n",
    "\n",
    "ind_df = ind_df.groupby('district').mean().reset_index().drop(columns='year')\n",
    "# ind_df = ind_df[ind_df['year']==2024].drop(columns='year')"
   ]
  },
  {
   "cell_type": "code",
   "execution_count": 8,
   "metadata": {},
   "outputs": [],
   "source": [
    "ind_list = ['climate', 'agriculture', 'water']\n",
    "ind_min, ind_max = ind_df[ind_list].min(), ind_df[ind_list].max()\n",
    "th = ind_df[ind_list].mean(), ind_df[ind_list].mean()+2*ind_df[ind_list].std()\n",
    "\n",
    "for indicator in ind_list:\n",
    "    # normalize all values from 0 to 1\n",
    "    ind_df[indicator+'_norm'] = (ind_df[indicator] - ind_min[indicator]) / (ind_max[indicator] - ind_min[indicator])\n",
    "    \n",
    "    # method 1: normalize between 0-2\n",
    "    # (ind_df[indicator] * 2).astype(int)\n",
    "\n",
    "    # method 2: rule based intervals\n",
    "    ind_df[indicator+'_levels'] = (\n",
    "        ind_df[indicator+'_norm']\n",
    "            .apply(lambda x: 0 if x < th[0][indicator] else 1 if x < th[1][indicator] else 2)\n",
    "            .astype(int)\n",
    "    )"
   ]
  },
  {
   "cell_type": "code",
   "execution_count": 9,
   "metadata": {},
   "outputs": [
    {
     "data": {
      "image/png": "[encoded data removed]",
      "text/plain": [
       "<Figure size 640x480 with 1 Axes>"
      ]
     },
     "metadata": {},
     "output_type": "display_data"
    }
   ],
   "source": [
    "ind_df[[i+'_levels' for i in ind_list]].plot.hist(alpha=0.3);"
   ]
  },
  {
   "cell_type": "markdown",
   "metadata": {},
   "source": [
    "## Generate JSON"
   ]
  },
  {
   "cell_type": "code",
   "execution_count": 10,
   "metadata": {},
   "outputs": [],
   "source": [
    "## Generate and export the JSON files\n",
    "layer_aggfunc_dict = {\n",
    "    'waterlevels': 'mean',\n",
    "    'precipitations': 'sum',\n",
    "    'temperature': 'mean',\n",
    "    'ndvi': 'mean',\n",
    "    'population': 'min'\n",
    "}\n",
    "\n",
    "# export monthly data\n",
    "for adm1_pcode in aoi_gdf['district'].unique():\n",
    "    for year in concat_df['month_dt'].dt.year.unique():\n",
    "        export_dict = {}\n",
    "        \n",
    "        # yearly popylation and density\n",
    "        export_dict['n_population'] = int(\n",
    "            yearly_population_df\n",
    "                .loc[\n",
    "                        (yearly_population_df['month_dt'].dt.year==year)&(yearly_population_df['district']==adm1_pcode),\n",
    "                        'population'\n",
    "                    ].values[0].round()\n",
    "        )\n",
    "        export_dict['population_density'] = float(\n",
    "            yearly_population_df\n",
    "                .loc[\n",
    "                        (yearly_population_df['month_dt'].dt.year==year)&(yearly_population_df['district']==adm1_pcode),\n",
    "                        'population_density'\n",
    "                    ].values[0].round(2)\n",
    "        )\n",
    "        \n",
    "        # monthly time series\n",
    "        for layer in ('waterlevels', 'precipitations', 'temperature', 'ndvi', 'population'):\n",
    "            \n",
    "            layer_ts = concat_df.loc[(concat_df['district']==adm1_pcode)&(concat_df['month_dt'].dt.year==year), layer]\n",
    "            if layer_ts.isna().all() or layer in ('population',):\n",
    "                export_dict[layer+'_ts'] = []\n",
    "            else:\n",
    "                export_dict[layer+'_ts'] =  layer_ts.round(3).replace({np.nan: None}).to_list()\n",
    "\n",
    "            if layer not in ('population',):\n",
    "                layer_avg_ts = monthly_avg_df.loc[(monthly_avg_df['district']==adm1_pcode), (layer, 'mean')]\n",
    "                if layer_avg_ts.isna().all():\n",
    "                    export_dict[layer+'_avg_ts'] = []\n",
    "                else:\n",
    "                    export_dict[layer+'_avg_ts'] = layer_avg_ts.round(3).replace({np.nan: None}).to_list()\n",
    "\n",
    "            if layer not in ('population',):\n",
    "                layer_std_ts = monthly_avg_df.loc[(monthly_avg_df['district']==adm1_pcode), (layer, 'std')]\n",
    "                if layer_std_ts.isna().all():\n",
    "                    export_dict[layer+'_std_ts'] = []\n",
    "                else:\n",
    "                    export_dict[layer+'_std_ts'] = layer_std_ts.round(4).replace({np.nan: None}).to_list()\n",
    "\n",
    "        # export the json\n",
    "        with open(os.path.join(data_folder, 'indicators', 'indicators_values', 'monthly', f'{year}-{adm1_pcode}.json'), 'w') as json_export:\n",
    "            json.dump(export_dict, json_export)"
   ]
  },
  {
   "cell_type": "code",
   "execution_count": 11,
   "metadata": {},
   "outputs": [],
   "source": [
    "# export month independant data\n",
    "for adm1_pcode in aoi_gdf['district'].unique():\n",
    "    export_dict = {}\n",
    "    # indicators data\n",
    "    for indicator in ('climate', 'agriculture', 'water'):\n",
    "        try:\n",
    "            export_dict[indicator] = int(ind_df.loc[ind_df['district']==adm1_pcode, indicator+'_levels'].values[0])\n",
    "        except IndexError:\n",
    "            export_dict[indicator] = 0\n",
    "        \n",
    "    # yearly time series\n",
    "    for layer in ('waterlevels', 'precipitations', 'temperature', 'ndvi', 'population'):\n",
    "        if layer_aggfunc_dict[layer] is not None:            \n",
    "            layer_yearly_ts = (\n",
    "                concat_df\n",
    "                    .loc[(concat_df['district']==adm1_pcode), ['month_dt', layer]]\n",
    "                    .set_index('month_dt')\n",
    "                    .groupby([pd.Grouper(freq='1YS')]).agg(layer_aggfunc_dict[layer])[layer]\n",
    "            )\n",
    "            if layer_yearly_ts.isna().all():\n",
    "                export_dict[layer+'_yearly_ts'] = []\n",
    "            else:\n",
    "                export_dict[layer+'_yearly_ts'] = layer_yearly_ts.round(3).replace({np.nan: None}).to_list()\n",
    "    \n",
    "    # add a yearly cropmask\n",
    "    export_dict['cropmask_yearly_ts'] = concat_df.loc[concat_df['district']==adm1_pcode, 'cropmask'].dropna().round(3).replace({np.nan: None}).to_list()\n",
    "    export_dict['waterextent_yearly_ts'] = concat_df.loc[concat_df['district']==adm1_pcode, 'waterextent'].dropna().round(3).replace({np.nan: None}).to_list()\n",
    "\n",
    "    # # add yearly indicator variance and best year match\n",
    "    # for indicator in ('agriculture', 'water', 'climate'):\n",
    "    #     export_dict[indicator+'_best_year_match'] = int(best_year_match) if best_year_match else None\n",
    "        \n",
    "    # export the json\n",
    "    with open(os.path.join(data_folder, 'indicators', 'indicators_values', f'{adm1_pcode}.json'), 'w') as json_export:\n",
    "        json.dump(export_dict, json_export)"
   ]
  },
  {
   "cell_type": "code",
   "execution_count": null,
   "metadata": {},
   "outputs": [],
   "source": []
  }
 ],
 "metadata": {
  "kernelspec": {
   "display_name": "masae-rs",
   "language": "python",
   "name": "python3"
  },
  "language_info": {
   "codemirror_mode": {
    "name": "ipython",
    "version": 3
   },
   "file_extension": ".py",
   "mimetype": "text/x-python",
   "name": "python",
   "nbconvert_exporter": "python",
   "pygments_lexer": "ipython3",
   "version": "3.9.12"
  }
 },
 "nbformat": 4,
 "nbformat_minor": 2
}
