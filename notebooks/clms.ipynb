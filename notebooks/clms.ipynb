{
 "cells": [
  {
   "cell_type": "markdown",
   "metadata": {},
   "source": [
    "# CLMS Water Bodies Analysis\n",
    "\n",
    "- product documentation: https://land.copernicus.eu/en/products/water-bodies/water-bodies-global-v2-0-300m\n",
    "- Values of the quality lawer:\n",
    "\n",
    "|   Digital value |  Description        |\n",
    "|----------------:|:--------------------|\n",
    "|               0 | Sea                 |\n",
    "|              71 | Very low occurence  |\n",
    "|              72 | Low occurence       |\n",
    "|              73 | Medium occurence    |\n",
    "|              74 | High occurence      |\n",
    "|              75 | Very high occurence |\n",
    "|              76 | Permanent occurence |\n",
    "|             251 | No data             |\n",
    "|             252 | Cloud               |\n",
    "|             255 | Not water           |\n",
    "## Setup\n",
    "### Imports"
   ]
  },
  {
   "cell_type": "code",
   "execution_count": 2,
   "metadata": {},
   "outputs": [],
   "source": [
    "import os\n",
    "from os.path import join\n",
    "import glob\n",
    "from tqdm import tqdm\n",
    "from datetime import datetime\n",
    "import tempfile\n",
    "\n",
    "import boto3\n",
    "\n",
    "# geoprocessing imports\n",
    "import numpy as np\n",
    "import pandas as pd\n",
    "import geopandas as gpd\n",
    "\n",
    "from rasterio.enums import Resampling\n",
    "import rioxarray\n",
    "from rioxarray.exceptions import NoDataInBounds\n",
    "import xarray as xr\n",
    "from rasterstats import zonal_stats"
   ]
  },
  {
   "cell_type": "markdown",
   "metadata": {},
   "source": [
    "## Parameters"
   ]
  },
  {
   "cell_type": "code",
   "execution_count": null,
   "metadata": {},
   "outputs": [],
   "source": [
    "# main path\n",
    "data_folder = '../data'\n",
    "\n",
    "# paths\n",
    "aoi_path = join(data_folder, 'admin', 'adm2.geojson')\n",
    "clms_path = join(data_folder, 'clms')\n",
    "\n",
    "\n",
    "# start / end dates\n",
    "start_date=\"2020-01-01\"\n",
    "end_date=\"2025-12-31\"\n",
    "\n",
    "# Water Bodies COG Catalog URL\n",
    "wb_catalog_url = \"https://s3.waw3-1.cloudferro.com/swift/v1/CatalogueCSV/bio-geophysical/water_bodies/wb_global_300m_monthly_v2/wb_global_300m_monthly_v2_cog.csv\"\n",
    "\n",
    "# configure S3 access\n",
    "COPERNICUS_S3_ACCESS_KEY = os.environ[\"COPERNICUS_S3_ACCESS_KEY\"]\n",
    "COPERNICUS_S3_SECRET_KEY = os.environ[\"COPERNICUS_S3_SECRET_KEY\"]"
   ]
  },
  {
   "cell_type": "markdown",
   "metadata": {},
   "source": [
    "## Functions"
   ]
  },
  {
   "cell_type": "code",
   "execution_count": 16,
   "metadata": {},
   "outputs": [],
   "source": [
    "# Functions"
   ]
  },
  {
   "cell_type": "markdown",
   "metadata": {},
   "source": [
    "# Main Code\n",
    "## Load AOI"
   ]
  },
  {
   "cell_type": "code",
   "execution_count": 17,
   "metadata": {},
   "outputs": [],
   "source": [
    "aoi_gdf = gpd.read_file(aoi_path)\n",
    "\n",
    "aoi_utm_crs = aoi_gdf.estimate_utm_crs()\n",
    "aoi_buffer = aoi_gdf.to_crs(aoi_utm_crs).dissolve().buffer(1000).to_crs(4326)\n",
    "aoi_geom = aoi_buffer.unary_union\n",
    "minx, miny, maxx, maxy = aoi_buffer.bounds.values[0]"
   ]
  },
  {
   "cell_type": "markdown",
   "metadata": {},
   "source": [
    "## Load Water Bodies catalog"
   ]
  },
  {
   "cell_type": "code",
   "execution_count": 18,
   "metadata": {},
   "outputs": [
    {
     "data": {
      "text/plain": [
       "35"
      ]
     },
     "execution_count": 18,
     "metadata": {},
     "output_type": "execute_result"
    }
   ],
   "source": [
    "# Load the Water Bodies COG catalog\n",
    "catalog_df = pd.read_csv(wb_catalog_url, sep=\";\")\n",
    "catalog_df = catalog_df[(catalog_df[\"content_date_start\"]>=start_date) & (catalog_df[\"content_date_end\"]<=end_date)]\n",
    "\n",
    "len(catalog_df)"
   ]
  },
  {
   "cell_type": "markdown",
   "metadata": {},
   "source": [
    "## Download available rasters"
   ]
  },
  {
   "cell_type": "code",
   "execution_count": 19,
   "metadata": {},
   "outputs": [],
   "source": [
    "s3_resource = boto3.resource(\n",
    "    's3',\n",
    "    endpoint_url='https://eodata.dataspace.copernicus.eu',\n",
    "    aws_access_key_id=COPERNICUS_S3_ACCESS_KEY,\n",
    "    aws_secret_access_key=COPERNICUS_S3_SECRET_KEY,\n",
    "    region_name='default'\n",
    ")  # generated secrets\n",
    "\n",
    "bucket = s3_resource.Bucket(\"eodata\")"
   ]
  },
  {
   "cell_type": "code",
   "execution_count": 20,
   "metadata": {},
   "outputs": [
    {
     "name": "stdout",
     "output_type": "stream",
     "text": [
      "Starting download in /var/folders/bh/lbyrbl_n4ts1gvgzm4wkw1x40000gq/T/tmp89t9b2uw ...\n"
     ]
    },
    {
     "name": "stderr",
     "output_type": "stream",
     "text": [
      "0it [00:00, ?it/s]"
     ]
    },
    {
     "name": "stderr",
     "output_type": "stream",
     "text": [
      "35it [01:31,  2.60s/it]\n"
     ]
    }
   ],
   "source": [
    "# create a temporary dir for downloads\n",
    "temp_dir = tempfile.TemporaryDirectory()\n",
    "print(f\"Starting download in {temp_dir.name} ...\")\n",
    "\n",
    "for i, item in tqdm(catalog_df.iterrows()):\n",
    "    _, _, _, product = item[\"s3_path\"].split(\"/\", 3)\n",
    "    files = bucket.objects.filter(Prefix=product)\n",
    "\n",
    "    if not list(files):\n",
    "        raise FileNotFoundError(f\"Could not find any files for {product}\")\n",
    "    for file in files:\n",
    "        output_path = join(temp_dir.name, os.path.basename(file.key))\n",
    "        if 'QUAL' in output_path and not os.path.exists(output_path):\n",
    "            bucket.download_file(file.key, output_path)"
   ]
  },
  {
   "cell_type": "code",
   "execution_count": 21,
   "metadata": {},
   "outputs": [],
   "source": [
    "file_list = glob.glob(os.path.join(temp_dir.name, \"*.tiff\"))\n",
    "\n",
    "for file in file_list:\n",
    "    filename = os.path.basename(file)\n",
    "    ds = rioxarray.open_rasterio(file, chunks=dict(x=512, y=512), masked=True)\n",
    "    ds = ds.sel(x=slice(minx, maxx), y=slice(maxy, miny)) # work on a slice to limit memory usage\n",
    "\n",
    "    # fix metadata\n",
    "    ds = ds.rio.write_crs(4326)\n",
    "    ds = ds.rio.write_nodata(251)\n",
    "\n",
    "    # clip\n",
    "    try:\n",
    "        ds = ds.rio.clip(aoi_buffer.geometry.values)\n",
    "    except NoDataInBounds:\n",
    "        print(f\"No data in bound for {filename}, skipping\")\n",
    "        continue\n",
    "\n",
    "    # save the raster file\n",
    "    output_path = join(clms_path, filename)\n",
    "    ds.rio.to_raster(output_path[:-1], compress='deflate', predictor=2)"
   ]
  },
  {
   "cell_type": "markdown",
   "metadata": {},
   "source": [
    "## Perform zonal stats"
   ]
  },
  {
   "cell_type": "code",
   "execution_count": 48,
   "metadata": {},
   "outputs": [
    {
     "name": "stderr",
     "output_type": "stream",
     "text": [
      "100%|██████████| 53/53 [02:00<00:00,  2.28s/it]\n"
     ]
    }
   ],
   "source": [
    "from rasterstats import zonal_stats\n",
    "\n",
    "file_list = glob.glob(os.path.join(clms_path, \"*.tif\"))\n",
    "file_list = sorted(file_list, key=lambda x: os.path.basename(x))\n",
    "\n",
    "# define a model to reproject all the other rasters\n",
    "df_list = []\n",
    "for file in tqdm(file_list):\n",
    "    date = datetime.strptime(os.path.basename(file)[17:25], '%Y%m%d')\n",
    "\n",
    "    # open the raster and extract\n",
    "    with rioxarray.open_rasterio(file) as da:\n",
    "        # extract the band and rescale\n",
    "        da = da.squeeze(dim='band').drop_vars('band').expand_dims(time=[date])\n",
    "        da = xr.where((da >= 71)&(da <= 76), 1, 0).astype('float32') # filter on water values\n",
    "        da = da.rio.write_crs(4326) # re-write crs\n",
    "        \n",
    "        # transform to surface\n",
    "        da = da.rio.reproject(32638, nodata=np.nan) # re-project to local crs\n",
    "        res = max(da.rio.resolution()) # calculate spatial resolution\n",
    "        da = da*res**2/10_000 # convert to ha\n",
    "        \n",
    "\n",
    "        # generate the zonal stats\n",
    "        stats_dict = zonal_stats(\n",
    "            aoi_gdf.to_crs(da.rio.crs),\n",
    "            da.data[0],\n",
    "            stats=['sum', 'std'],\n",
    "            affine=da.rio.transform(),\n",
    "            nodata=np.nan\n",
    "        )\n",
    "        \n",
    "        stats_df = pd.DataFrame(stats_dict)\n",
    "        stats_df['month'] = date\n",
    "        df_list.append(stats_df)\n",
    "\n",
    "stats_df = pd.concat(df_list).join(aoi_gdf['district']).reset_index(drop=True)\n",
    "stats_df = stats_df.sort_values(['month', 'district'])"
   ]
  },
  {
   "cell_type": "code",
   "execution_count": 50,
   "metadata": {},
   "outputs": [],
   "source": [
    "# export\n",
    "stats_df.to_csv(join(data_folder, 'indicators', 'waterextent.csv'))"
   ]
  },
  {
   "cell_type": "code",
   "execution_count": null,
   "metadata": {},
   "outputs": [
    {
     "data": {
      "image/png": "[encoded data removed]",
      "text/plain": [
       "<Figure size 640x480 with 1 Axes>"
      ]
     },
     "metadata": {},
     "output_type": "display_data"
    }
   ],
   "source": [
    "stats_df[stats_df['district']=='Northern Buttes District'].set_index('month')['sum'].plot();"
   ]
  },
  {
   "cell_type": "markdown",
   "metadata": {},
   "source": [
    "## Generate yearly aggregation"
   ]
  },
  {
   "cell_type": "code",
   "execution_count": null,
   "metadata": {},
   "outputs": [],
   "source": [
    "clms_file_list = glob.glob(join(clms_path, '*.tif'))\n",
    "years_list = ['2020', '2021', '2022', '2023', '2024', '2025']\n",
    "\n",
    "for year in years_list:\n",
    "    export_file_tiff = join(data_folder, 'aggregates', f'waterextent_{year}.tif')\n",
    "\n",
    "    # if os.path.exists(export_file_tiff):\n",
    "    #     continue\n",
    "\n",
    "    file_list = sorted([f for f in clms_file_list if year in os.path.basename(f)])\n",
    "\n",
    "    da_list = []\n",
    "    # generate a rasters time series for the year\n",
    "    for file in file_list:\n",
    "        date = datetime.strptime(os.path.basename(file)[17:25], '%Y%m%d')\n",
    "        with rioxarray.open_rasterio(file) as da:\n",
    "            # extract the band and rescale\n",
    "            da = da.squeeze(dim='band').drop_vars('band').expand_dims(time=[date])\n",
    "            da = xr.where((da >= 71)&(da <= 76), 1, 0).astype('float32') # filter on water values\n",
    "            da = da.rio.write_crs(4326) # re-write crs\n",
    "\n",
    "            # for year 2020, we need to reproject all rasters on the same reference\n",
    "            if year == '2020':\n",
    "                if da.sum().values == 0: # skip empty files\n",
    "                    continue\n",
    "                if date == datetime(2020,1,1):\n",
    "                    da_model = da\n",
    "                else:\n",
    "                    da = da.rio.reproject_match(da_model, nodata=np.nan, resampling=Resampling.bilinear)\n",
    "        \n",
    "            da_list.append(da)\n",
    "\n",
    "    ds_concat = xr.concat(da_list, dim='time').to_dataset(name='waterextent')\n",
    "    ds_concat = ds_concat.rio.set_crs(4326)\n",
    "    \n",
    "    # generate average tiff for the year\n",
    "    (\n",
    "        ds_concat['waterextent']\n",
    "        .mean(dim='time', skipna=True)\n",
    "        .rio.write_nodata(0)\n",
    "        .rio.to_raster(export_file_tiff, compress='deflate', predictor=2)\n",
    "    )"
   ]
  },
  {
   "cell_type": "markdown",
   "metadata": {},
   "source": [
    "<HR>\n",
    "\n",
    "# TESTS"
   ]
  },
  {
   "cell_type": "code",
   "execution_count": null,
   "metadata": {},
   "outputs": [],
   "source": [
    "# Try to download the file in memory\n",
    "import s3fs\n",
    "\n",
    "fs = s3fs.S3FileSystem(\n",
    "    key=COPERNICUS_S3_ACCESS_KEY,\n",
    "    secret=COPERNICUS_S3_SECRET_KEY,\n",
    "    client_kwargs={'endpoint_url': 'https://eodata.dataspace.copernicus.eu'}\n",
    ")\n",
    "\n",
    "\n",
    "for file in files:\n",
    "    # Open directly from S3\n",
    "    s3_path = f\"EODATA/{file.key}\"\n",
    "    with fs.open(s3_path, 'rb') as f:\n",
    "        da = rioxarray.open_rasterio(f, masked=True)\n",
    "\n",
    "        aoi_geom = aoi_gdf.unary_union\n",
    "        da = da.sel(x=slice(minx, maxx), y=slice(maxy, miny)) # work on a slice to limit memory usage\n",
    "\n",
    "        da = da.rio.write_crs(4326)\n",
    "        da = da.rio.write_nodata(251)\n",
    "\n",
    "        # clip\n",
    "        da = da.rio.clip([aoi_geom])\n",
    "\n",
    "        # save the raster file\n",
    "        da.rio.to_raster(output_path, compress='deflate', predictor=2)"
   ]
  },
  {
   "cell_type": "code",
   "execution_count": null,
   "metadata": {},
   "outputs": [],
   "source": []
  }
 ],
 "metadata": {
  "kernelspec": {
   "display_name": "masae-rs",
   "language": "python",
   "name": "python3"
  },
  "language_info": {
   "codemirror_mode": {
    "name": "ipython",
    "version": 3
   },
   "file_extension": ".py",
   "mimetype": "text/x-python",
   "name": "python",
   "nbconvert_exporter": "python",
   "pygments_lexer": "ipython3",
   "version": "3.9.12"
  }
 },
 "nbformat": 4,
 "nbformat_minor": 4
}
