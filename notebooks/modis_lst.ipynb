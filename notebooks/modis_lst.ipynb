{
 "cells": [
  {
   "cell_type": "markdown",
   "metadata": {},
   "source": [
    "# Setup\n",
    "## Imports"
   ]
  },
  {
   "cell_type": "code",
   "execution_count": 1,
   "metadata": {},
   "outputs": [],
   "source": [
    "import os\n",
    "from os import environ\n",
    "from os.path import join\n",
    "import glob\n",
    "from tqdm import tqdm\n",
    "\n",
    "import geopandas as gpd\n",
    "import pandas as pd\n",
    "import numpy as np\n",
    "\n",
    "import xarray as xr\n",
    "import rioxarray\n",
    "\n",
    "from pystac_client import Client\n",
    "import planetary_computer as pc\n",
    "import stackstac\n",
    "from dask.diagnostics import ProgressBar"
   ]
  },
  {
   "cell_type": "markdown",
   "metadata": {},
   "source": [
    "# Functions definition"
   ]
  },
  {
   "cell_type": "code",
   "execution_count": 2,
   "metadata": {},
   "outputs": [],
   "source": [
    "# Functions"
   ]
  },
  {
   "cell_type": "markdown",
   "metadata": {},
   "source": [
    "## Parameters"
   ]
  },
  {
   "cell_type": "code",
   "execution_count": 21,
   "metadata": {},
   "outputs": [],
   "source": [
    "# main path\n",
    "data_folder = '../data'\n",
    "\n",
    "# paths\n",
    "aoi_path = join(data_folder, 'admin', 'adm2.geojson')\n",
    "modis_path = join(data_folder, 'modis', 'lst')\n",
    "\n",
    "# start / end dates\n",
    "start_date=\"2020-01-01\"\n",
    "end_date=\"2025-12-30\""
   ]
  },
  {
   "cell_type": "markdown",
   "metadata": {},
   "source": [
    "# Main code\n",
    "## Define the AOI"
   ]
  },
  {
   "cell_type": "code",
   "execution_count": 22,
   "metadata": {},
   "outputs": [],
   "source": [
    "aoi_gdf = gpd.read_file(aoi_path)\n",
    "\n",
    "aoi_utm_crs = aoi_gdf.estimate_utm_crs()\n",
    "aoi_epsg_geom = aoi_gdf.to_crs(aoi_utm_crs).dissolve().buffer(1000).iloc[0]\n",
    "bbox_4326 = aoi_gdf.to_crs(4326).unary_union.bounds # bounding box for search\n",
    "bbox_epsg = aoi_gdf.to_crs(aoi_utm_crs).unary_union.bounds # to limit the downloaded data"
   ]
  },
  {
   "cell_type": "markdown",
   "metadata": {},
   "source": [
    "## Search and download satellite images"
   ]
  },
  {
   "cell_type": "code",
   "execution_count": 4,
   "metadata": {},
   "outputs": [],
   "source": [
    "# open the catalog\n",
    "catalog = Client.open(\"https://planetarycomputer.microsoft.com/api/stac/v1\", modifier=pc.sign_inplace)"
   ]
  },
  {
   "cell_type": "code",
   "execution_count": 5,
   "metadata": {},
   "outputs": [
    {
     "name": "stdout",
     "output_type": "stream",
     "text": [
      "Found 2577 items\n"
     ]
    }
   ],
   "source": [
    "query = catalog.search(bbox=bbox_4326,\n",
    "                        collections=\"modis-21A2-061\",\n",
    "                        datetime=f'{start_date}/{end_date}')\n",
    "item_list = query.item_collection()\n",
    "\n",
    "print(f\"Found {len(item_list)} items\")"
   ]
  },
  {
   "cell_type": "code",
   "execution_count": null,
   "metadata": {},
   "outputs": [
    {
     "name": "stderr",
     "output_type": "stream",
     "text": [
      "/Users/pierre/.virtualenvs/masae-rs/lib/python3.9/site-packages/stackstac/prepare.py:408: UserWarning: The argument 'infer_datetime_format' is deprecated and will be removed in a future version. A strict version of it is now the default, see https://pandas.pydata.org/pdeps/0004-consistent-to-datetime-parsing.html. You can safely remove this argument.\n",
      "  times = pd.to_datetime(\n"
     ]
    },
    {
     "name": "stdout",
     "output_type": "stream",
     "text": [
      "[########################################] | 100% Completed | 175.88 s\n"
     ]
    }
   ],
   "source": [
    "ds = stackstac.stack(\n",
    "    item_list,\n",
    "    assets=[\"LST_Day_1KM\"],\n",
    "    bounds=bbox_epsg,\n",
    "    resolution=1000,\n",
    "    rescale=False,\n",
    "    xy_coords='center',\n",
    "    epsg=aoi_utm_crs.to_epsg(),\n",
    "    dtype='uint16',\n",
    "    fill_value=0\n",
    ")\n",
    "with ProgressBar():\n",
    "    ds.load()"
   ]
  },
  {
   "cell_type": "code",
   "execution_count": 18,
   "metadata": {},
   "outputs": [],
   "source": [
    "# fix the time by parsing the id property\n",
    "ds['time'] = (\n",
    "    pd.to_datetime(ds['id'].str[9:13]) \n",
    "    + pd.to_timedelta(ds['id'].str[13:16].astype(int) - 1, unit='D')\n",
    ")\n",
    "\n",
    "# group by timestamp\n",
    "ds = ds.groupby(\"time\").max()\n",
    "ds = ds.rio.write_nodata(0).astype('uint16')"
   ]
  },
  {
   "cell_type": "code",
   "execution_count": 19,
   "metadata": {},
   "outputs": [
    {
     "name": "stderr",
     "output_type": "stream",
     "text": [
      "100%|██████████| 248/248 [01:05<00:00,  3.77it/s]\n"
     ]
    }
   ],
   "source": [
    "# export all dates as tiffs\n",
    "for i in tqdm(range(len(ds))):\n",
    "    date = str(ds.isel(time=i)['time'].dt.strftime(\"%Y-%m-%d\").data)\n",
    "    export_name = date+'_LST_Day.tif'\n",
    "    ds.isel(time=i).rename(date).rio.clip(\n",
    "        [aoi_epsg_geom]).rio.to_raster(\n",
    "        join(modis_path, export_name),\n",
    "        compress=\"deflate\",\n",
    "        predictor=2\n",
    "    )"
   ]
  },
  {
   "cell_type": "markdown",
   "metadata": {},
   "source": [
    "## Perform zonal stats"
   ]
  },
  {
   "cell_type": "code",
   "execution_count": 37,
   "metadata": {},
   "outputs": [
    {
     "name": "stderr",
     "output_type": "stream",
     "text": [
      "100%|██████████| 248/248 [01:55<00:00,  2.14it/s]\n"
     ]
    }
   ],
   "source": [
    "from rasterio.enums import Resampling\n",
    "from rasterstats import zonal_stats\n",
    "\n",
    "file_list = glob.glob(os.path.join(modis_path, \"*.tif\"))\n",
    "\n",
    "# define a model to reproject all the other rasters\n",
    "df_list = []\n",
    "for file in tqdm(file_list):\n",
    "    date = pd.to_datetime(os.path.basename(file)[:10], yearfirst=True)\n",
    "\n",
    "    # open the raster and extract\n",
    "    with rioxarray.open_rasterio(file) as da:\n",
    "        da = da.squeeze(dim='band')\n",
    "        da = da.astype('float32').where(da != 0).rio.set_nodata(np.nan)\n",
    "        da = da * 0.02 - 273.15 # to Celsius\n",
    "        da = (da * 9/5) + 32 # to Fahrenheit\n",
    "    \n",
    "        # generate the zonal stats\n",
    "        stats_dict = zonal_stats(\n",
    "            aoi_gdf.to_crs(da.rio.crs),\n",
    "            da.values,\n",
    "            stats=['mean', 'max', 'min', 'std'],\n",
    "            affine=da.rio.transform(),\n",
    "            nodata=np.nan,\n",
    "        )\n",
    "        stats_df = pd.DataFrame(stats_dict)\n",
    "        stats_df['month'] = date\n",
    "        df_list.append(stats_df)\n",
    "\n",
    "stats_df = pd.concat(df_list).join(aoi_gdf['district']).reset_index(drop=True)\n",
    "stats_df = stats_df.sort_values(['month', 'district'])"
   ]
  },
  {
   "cell_type": "code",
   "execution_count": 38,
   "metadata": {},
   "outputs": [],
   "source": [
    "# export\n",
    "stats_df.to_csv(join(data_folder, 'indicators', 'temperature.csv'))"
   ]
  },
  {
   "cell_type": "code",
   "execution_count": 39,
   "metadata": {},
   "outputs": [
    {
     "data": {
      "image/png": "[encoded data removed]",
      "text/plain": [
       "<Figure size 640x480 with 1 Axes>"
      ]
     },
     "metadata": {},
     "output_type": "display_data"
    }
   ],
   "source": [
    "stats_df[stats_df['district']=='Northern Buttes District'].set_index('month')['mean'].plot();"
   ]
  },
  {
   "cell_type": "markdown",
   "metadata": {},
   "source": [
    "## Generate yearly aggregation"
   ]
  },
  {
   "cell_type": "code",
   "execution_count": 43,
   "metadata": {},
   "outputs": [
    {
     "name": "stderr",
     "output_type": "stream",
     "text": [
      "100%|██████████| 6/6 [00:11<00:00,  1.83s/it]\n"
     ]
    }
   ],
   "source": [
    "modis_file_list = glob.glob(join(modis_path, '*.tif'))\n",
    "years_list = ['2020', '2021', '2022', '2023', '2024', '2025']\n",
    "\n",
    "df_list = []\n",
    "for year in tqdm(years_list):\n",
    "    export_file_tiff = join(data_folder, 'aggregates', f'temperature_{year}.tif')\n",
    "\n",
    "    # if os.path.exists(export_file_tiff):\n",
    "    #     continue\n",
    "\n",
    "    file_list = sorted([f for f in modis_file_list if os.path.basename(f).startswith(str(year))])\n",
    "\n",
    "    da_list = []\n",
    "    # generate a rasters time series for the year\n",
    "    for file in file_list:\n",
    "        date = np.datetime64(os.path.basename(file)[:10])\n",
    "               \n",
    "        with rioxarray.open_rasterio(file) as da:\n",
    "            da = da.squeeze(dim='band').drop_vars('band').expand_dims(time=[date])\n",
    "            da = da.astype('float32').where(da != 0).rio.set_nodata(np.nan)\n",
    "            da = da * 0.02 - 273.15 # to Celsius\n",
    "            da = (da * 9/5) + 32 # to Fahrenheit\n",
    "            da_list.append(da)\n",
    "   \n",
    "    ds_concat = xr.concat(da_list, dim='time').to_dataset(name='temperature')\n",
    "    \n",
    "    # generate cumulated tiff for the year\n",
    "    ds_concat['temperature'].mean(dim='time').rio.set_nodata(np.nan).rio.to_raster(export_file_tiff, compress='deflate', predictor=2)"
   ]
  },
  {
   "cell_type": "code",
   "execution_count": null,
   "metadata": {},
   "outputs": [],
   "source": []
  }
 ],
 "metadata": {
  "kernelspec": {
   "display_name": "masae-rs",
   "language": "python",
   "name": "python3"
  },
  "language_info": {
   "codemirror_mode": {
    "name": "ipython",
    "version": 3
   },
   "file_extension": ".py",
   "mimetype": "text/x-python",
   "name": "python",
   "nbconvert_exporter": "python",
   "pygments_lexer": "ipython3",
   "version": "3.9.12"
  }
 },
 "nbformat": 4,
 "nbformat_minor": 2
}
